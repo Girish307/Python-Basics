{
  "nbformat": 4,
  "nbformat_minor": 0,
  "metadata": {
    "colab": {
      "provenance": []
    },
    "kernelspec": {
      "name": "python3",
      "display_name": "Python 3"
    },
    "language_info": {
      "name": "python"
    }
  },
  "cells": [
    {
      "cell_type": "markdown",
      "source": [
        "#  What is Python, and why is it popular?\n",
        "   - Python is a high-level,genral purpose programming language known for its readability and versatility.It is compatible with various programming paradigms,such as procedural,object-oriented and functional programming.\n",
        "   the main points why it is so famous-\n",
        "   1. Versatility-Python can be used for a wide range of applications,including web devlopment,data science,machine learning,AI and automation.\n",
        "   2. Extensive libraries- Python has very rich ecosytem of libraries that provides pre-built code for various tasks this saves lots of time and efforts.\n",
        "   3. Cross-platform compatibility- Pythons programme can run on different operating systems- including windows,macOS,linux etc.\n",
        "   4. Large and active community- Python has a massive and active community of devlopers who contribute to its growth and provide support.\n",
        "# What is an interpreter in Python?\n",
        "  - Interpreter is a programme that reads pythons code line by line and execute it directly without creating a separate, standalone executable file like compiler."
      ],
      "metadata": {
        "id": "7S29vlcwcWRw"
      }
    },
    {
      "cell_type": "markdown",
      "source": [],
      "metadata": {
        "id": "YhQWG8mjy2ad"
      }
    },
    {
      "cell_type": "markdown",
      "source": [
        "# What are pre-defined keywords in Python?\n",
        "  - Keywords are reserved words in python that have special meanings and can't be used as identifiers.\n",
        "  example of keywords- if,else,while,for,def,class,import,try,except,return,true,false etc.\n",
        "# Can keywords be used as variable names?\n",
        "  - keywords cannot be used as variable names.keywords are reserved words with special meaning within the python language.they define the syntax and structure of the code. if we try to use keywords as variable name, python will gave a syntax error.\n",
        "# What is mutability in Python?\n",
        "  - Python has the ability to change the value of an object after creating.\n",
        "  mutable objects- such as lists and dictionaries, can be modified after creation.\n",
        "# Why are lists mutable, but tuples are immutable?\n",
        "  -Lists are mutable because they can be modify elements within a list after creating.On the other hand Tuples are immutable because of they cannot be modify, remove or change elements after creating a tuple.\n",
        "  1. Lists provide flexibility when you need to dynamically modify a collection of data.while tuples can be more efficient in terms of memory usage and performance in dictionaries or as elements in sets.\n",
        "  2. Tuples are immutable,their hash value remains constant.\n",
        "# What is the difference between “==” and “is” operators in Python?\n",
        "-In python,'Equality'and'is' both operators are uesd for comparison.\n",
        "Equality operator(==): it compares the values of the operands and checks if the two operands have the same value.Aslo returns true if the values are equal, otherwise false."
      ],
      "metadata": {
        "id": "qSwhyrZtxeiX"
      }
    },
    {
      "cell_type": "code",
      "source": [
        "a={1,2,3}\n",
        "b={1,2,3}\n",
        "print(a==b)\n"
      ],
      "metadata": {
        "colab": {
          "base_uri": "https://localhost:8080/"
        },
        "id": "5bklLo0G6HNl",
        "outputId": "a6981985-ace5-4560-a50f-8ff22a849522"
      },
      "execution_count": null,
      "outputs": [
        {
          "output_type": "stream",
          "name": "stdout",
          "text": [
            "True\n"
          ]
        }
      ]
    },
    {
      "cell_type": "markdown",
      "source": [
        "\"Is(identity operator)\"- It compares the object identities of the operands and checks if the two operands refer to the same object in memory.Also return True if they refer to the same object otherwise false."
      ],
      "metadata": {
        "id": "mvKvxioq6qB8"
      }
    },
    {
      "cell_type": "code",
      "source": [
        "a=[1,2,3]\n",
        "b=[1,2,3]\n",
        "print(a is b)"
      ],
      "metadata": {
        "colab": {
          "base_uri": "https://localhost:8080/"
        },
        "id": "bbHmjKh475fM",
        "outputId": "18104626-5d07-43c5-869e-fc8b96cec5f1"
      },
      "execution_count": null,
      "outputs": [
        {
          "output_type": "stream",
          "name": "stdout",
          "text": [
            "False\n"
          ]
        }
      ]
    },
    {
      "cell_type": "markdown",
      "source": [
        "# What are logical operators in Python?\n",
        "  - logical operator are used to combine or negate boolean expressions.These are essential for controlling the flow of your code based on multiple conditions.\n",
        "  some important logical operators-\n",
        "  1.'and'- it returns true if both operands are true,otherwise returns false."
      ],
      "metadata": {
        "id": "sFeGEG6e8VCr"
      }
    },
    {
      "cell_type": "code",
      "source": [
        "a=True\n",
        "b=False\n",
        "print(a and b)"
      ],
      "metadata": {
        "colab": {
          "base_uri": "https://localhost:8080/"
        },
        "id": "HcvrTsJZ-TsE",
        "outputId": "261f2d58-0865-4a54-a364-024a26465660"
      },
      "execution_count": null,
      "outputs": [
        {
          "output_type": "stream",
          "name": "stdout",
          "text": [
            "False\n"
          ]
        }
      ]
    },
    {
      "cell_type": "markdown",
      "source": [
        "2.'or'- it returns true if at least one of the operands is True,otherwise returns False."
      ],
      "metadata": {
        "id": "bEspN6yH-dNK"
      }
    },
    {
      "cell_type": "code",
      "source": [
        "a=True\n",
        "b=False\n",
        "print(a or b)"
      ],
      "metadata": {
        "colab": {
          "base_uri": "https://localhost:8080/"
        },
        "id": "visq266b-zwG",
        "outputId": "f7c7764f-9668-4f1b-c5d3-a9e1860f5ae3"
      },
      "execution_count": null,
      "outputs": [
        {
          "output_type": "stream",
          "name": "stdout",
          "text": [
            "True\n"
          ]
        }
      ]
    },
    {
      "cell_type": "markdown",
      "source": [
        "3.'not'-it's main purpose to reverse the logical state of the operand.If the operand is True, it returns False. if the operands is False, it returns True."
      ],
      "metadata": {
        "id": "opUZSqMU-9o8"
      }
    },
    {
      "cell_type": "code",
      "source": [
        "a= True"
      ],
      "metadata": {
        "id": "hYQVVwHc_jN7"
      },
      "execution_count": null,
      "outputs": []
    },
    {
      "cell_type": "markdown",
      "source": [
        "# What is type casting in Python?\n",
        "  -type casting is the process of changing one data type to another in python.type casting is necessory for performing arithmetic operations,data maniputlations and input/output operations in python programs. python provides built-in functions for type casting,such as- int(),float(),str(),list(),tuple(),dict() etc.\n",
        "# What is the difference between implicit and explicit type casting?\n",
        "  -Implicit type casting:In python,The compiler or interpreter automatically converts one data type to another without explicit instruction from the programer.\n",
        "  for ex-"
      ],
      "metadata": {
        "id": "9pEesBBBARie"
      }
    },
    {
      "cell_type": "code",
      "source": [
        "a=2\n",
        "b=5.2\n",
        "print(a+b)"
      ],
      "metadata": {
        "colab": {
          "base_uri": "https://localhost:8080/"
        },
        "id": "l8lmT4cyE1Ad",
        "outputId": "37f6eff7-de14-4775-a03e-3a268a180440"
      },
      "execution_count": null,
      "outputs": [
        {
          "output_type": "stream",
          "name": "stdout",
          "text": [
            "7.2\n"
          ]
        }
      ]
    },
    {
      "cell_type": "markdown",
      "source": [
        "Explicit type casting:-In explicit type casting,the programmer explicitly instructs the compiler to convert one data type to another using built in functions."
      ],
      "metadata": {
        "id": "PTv_AC94GSiV"
      }
    },
    {
      "cell_type": "code",
      "source": [
        "a=\"15\"\n",
        "a=int(a)\n",
        "print(a)"
      ],
      "metadata": {
        "colab": {
          "base_uri": "https://localhost:8080/"
        },
        "id": "mzz00JNCHJUa",
        "outputId": "269b5e83-39e5-4372-977a-3786c9498067"
      },
      "execution_count": null,
      "outputs": [
        {
          "output_type": "stream",
          "name": "stdout",
          "text": [
            "15\n"
          ]
        }
      ]
    },
    {
      "cell_type": "markdown",
      "source": [],
      "metadata": {
        "id": "ZWQ5cVNVbg7b"
      }
    },
    {
      "cell_type": "markdown",
      "source": [
        "# What is the purpose of conditional statements in Python?\n",
        "  - Conditionals in Python are used to execute code based on the evaluation of one or more conditions.conditional statements in python,like if,if,elif,and else,are fundamenta control flow mechanisms.\n",
        "# How does the elif statement work?\n",
        "  - The elif statement in python is used to cheak for multiple conditions sequentially.for example-\n"
      ],
      "metadata": {
        "id": "n1E1NMWmy-cs"
      }
    },
    {
      "cell_type": "code",
      "source": [
        "score = 80\n",
        "if score >= 90:\n",
        "    print(\"Grade: A\")\n",
        "elif score >= 80:\n",
        "    print(\"Grade: B\")\n",
        "elif score >= 70:\n",
        "    print(\"Grade: C\")\n",
        "else:\n",
        "    print(\"Grade: D\")"
      ],
      "metadata": {
        "colab": {
          "base_uri": "https://localhost:8080/"
        },
        "id": "YxL5tmRP2oXt",
        "outputId": "8f2d664f-1617-41ca-9d75-20b52d351cae"
      },
      "execution_count": null,
      "outputs": [
        {
          "output_type": "stream",
          "name": "stdout",
          "text": [
            "Grade: B\n"
          ]
        }
      ]
    },
    {
      "cell_type": "markdown",
      "source": [
        "# What is the difference between for and while loops?\n",
        "  - Loops:loops are employed to repeat a sequence of actions or code until a specific condition is\n",
        "fulfilled.\n",
        "  -for loop: for loop primarily used to iterate over a sequence of elements or a range of numbers.\n",
        "  example-"
      ],
      "metadata": {
        "id": "KZw3Y47W2_y9"
      }
    },
    {
      "cell_type": "code",
      "source": [
        "a = \"India\"\n",
        "for i in a:\n",
        "    print(i)"
      ],
      "metadata": {
        "colab": {
          "base_uri": "https://localhost:8080/"
        },
        "id": "QUHTtu5i5DjM",
        "outputId": "f5f17fee-21a6-4f7e-df50-745b80708c7e"
      },
      "execution_count": null,
      "outputs": [
        {
          "output_type": "stream",
          "name": "stdout",
          "text": [
            "I\n",
            "n\n",
            "d\n",
            "i\n",
            "a\n"
          ]
        }
      ]
    },
    {
      "cell_type": "markdown",
      "source": [
        "  -while loop: it repeateadly execute a block of code as long as a given condition remains true."
      ],
      "metadata": {
        "id": "-LG3PY3T5VXo"
      }
    },
    {
      "cell_type": "code",
      "source": [
        "n = 7\n",
        "i = 1\n",
        "while i <= n:\n",
        "    print(i)\n",
        "    i += 1\n"
      ],
      "metadata": {
        "colab": {
          "base_uri": "https://localhost:8080/"
        },
        "id": "D6AD_n5tPwJs",
        "outputId": "7020c23f-9dde-48c3-adef-c8aeb9e713c1"
      },
      "execution_count": null,
      "outputs": [
        {
          "output_type": "stream",
          "name": "stdout",
          "text": [
            "1\n",
            "2\n",
            "3\n",
            "4\n",
            "5\n",
            "6\n",
            "7\n"
          ]
        }
      ]
    },
    {
      "cell_type": "markdown",
      "source": [
        "# Describe a scenario where a while loop is more suitable than a for loop.\n",
        "  -Reasons why \"while loop\" is more suitable than for loop-\n",
        "  1.unknown number of iterations- the loop continues untill the user provides a valid age.\n",
        "  2.condition-based execution- The loop's continuation depends on the condition age <=0,"
      ],
      "metadata": {
        "id": "jz35QetJRFng"
      }
    },
    {
      "cell_type": "code",
      "source": [
        "age = 0\n",
        "while age<= 0:\n",
        "  try:\n",
        "    age = int(input(\"Enter your age: \"))\n",
        "  except ValueError:\n",
        "    print(\"Invalid input. Please enter a valid age.\")"
      ],
      "metadata": {
        "colab": {
          "base_uri": "https://localhost:8080/",
          "height": 356
        },
        "collapsed": true,
        "id": "uFmxdr1QTq--",
        "outputId": "0223375f-d5c4-495c-cf14-45c9454d7980"
      },
      "execution_count": null,
      "outputs": [
        {
          "output_type": "error",
          "ename": "KeyboardInterrupt",
          "evalue": "Interrupted by user",
          "traceback": [
            "\u001b[0;31m---------------------------------------------------------------------------\u001b[0m",
            "\u001b[0;31mKeyboardInterrupt\u001b[0m                         Traceback (most recent call last)",
            "\u001b[0;32m<ipython-input-5-807253d6d9ff>\u001b[0m in \u001b[0;36m<cell line: 2>\u001b[0;34m()\u001b[0m\n\u001b[1;32m      2\u001b[0m \u001b[0;32mwhile\u001b[0m \u001b[0mage\u001b[0m\u001b[0;34m<=\u001b[0m \u001b[0;36m0\u001b[0m\u001b[0;34m:\u001b[0m\u001b[0;34m\u001b[0m\u001b[0;34m\u001b[0m\u001b[0m\n\u001b[1;32m      3\u001b[0m   \u001b[0;32mtry\u001b[0m\u001b[0;34m:\u001b[0m\u001b[0;34m\u001b[0m\u001b[0;34m\u001b[0m\u001b[0m\n\u001b[0;32m----> 4\u001b[0;31m     \u001b[0mage\u001b[0m \u001b[0;34m=\u001b[0m \u001b[0mint\u001b[0m\u001b[0;34m(\u001b[0m\u001b[0minput\u001b[0m\u001b[0;34m(\u001b[0m\u001b[0;34m\"Enter your age: \"\u001b[0m\u001b[0;34m)\u001b[0m\u001b[0;34m)\u001b[0m\u001b[0;34m\u001b[0m\u001b[0;34m\u001b[0m\u001b[0m\n\u001b[0m\u001b[1;32m      5\u001b[0m   \u001b[0;32mexcept\u001b[0m \u001b[0mValueError\u001b[0m\u001b[0;34m:\u001b[0m\u001b[0;34m\u001b[0m\u001b[0;34m\u001b[0m\u001b[0m\n\u001b[1;32m      6\u001b[0m     \u001b[0mprint\u001b[0m\u001b[0;34m(\u001b[0m\u001b[0;34m\"Invalid input. Please enter a valid age.\"\u001b[0m\u001b[0;34m)\u001b[0m\u001b[0;34m\u001b[0m\u001b[0;34m\u001b[0m\u001b[0m\n",
            "\u001b[0;32m/usr/local/lib/python3.10/dist-packages/ipykernel/kernelbase.py\u001b[0m in \u001b[0;36mraw_input\u001b[0;34m(self, prompt)\u001b[0m\n\u001b[1;32m    849\u001b[0m                 \u001b[0;34m\"raw_input was called, but this frontend does not support input requests.\"\u001b[0m\u001b[0;34m\u001b[0m\u001b[0;34m\u001b[0m\u001b[0m\n\u001b[1;32m    850\u001b[0m             )\n\u001b[0;32m--> 851\u001b[0;31m         return self._input_request(str(prompt),\n\u001b[0m\u001b[1;32m    852\u001b[0m             \u001b[0mself\u001b[0m\u001b[0;34m.\u001b[0m\u001b[0m_parent_ident\u001b[0m\u001b[0;34m,\u001b[0m\u001b[0;34m\u001b[0m\u001b[0;34m\u001b[0m\u001b[0m\n\u001b[1;32m    853\u001b[0m             \u001b[0mself\u001b[0m\u001b[0;34m.\u001b[0m\u001b[0m_parent_header\u001b[0m\u001b[0;34m,\u001b[0m\u001b[0;34m\u001b[0m\u001b[0;34m\u001b[0m\u001b[0m\n",
            "\u001b[0;32m/usr/local/lib/python3.10/dist-packages/ipykernel/kernelbase.py\u001b[0m in \u001b[0;36m_input_request\u001b[0;34m(self, prompt, ident, parent, password)\u001b[0m\n\u001b[1;32m    893\u001b[0m             \u001b[0;32mexcept\u001b[0m \u001b[0mKeyboardInterrupt\u001b[0m\u001b[0;34m:\u001b[0m\u001b[0;34m\u001b[0m\u001b[0;34m\u001b[0m\u001b[0m\n\u001b[1;32m    894\u001b[0m                 \u001b[0;31m# re-raise KeyboardInterrupt, to truncate traceback\u001b[0m\u001b[0;34m\u001b[0m\u001b[0;34m\u001b[0m\u001b[0m\n\u001b[0;32m--> 895\u001b[0;31m                 \u001b[0;32mraise\u001b[0m \u001b[0mKeyboardInterrupt\u001b[0m\u001b[0;34m(\u001b[0m\u001b[0;34m\"Interrupted by user\"\u001b[0m\u001b[0;34m)\u001b[0m \u001b[0;32mfrom\u001b[0m \u001b[0;32mNone\u001b[0m\u001b[0;34m\u001b[0m\u001b[0;34m\u001b[0m\u001b[0m\n\u001b[0m\u001b[1;32m    896\u001b[0m             \u001b[0;32mexcept\u001b[0m \u001b[0mException\u001b[0m \u001b[0;32mas\u001b[0m \u001b[0me\u001b[0m\u001b[0;34m:\u001b[0m\u001b[0;34m\u001b[0m\u001b[0;34m\u001b[0m\u001b[0m\n\u001b[1;32m    897\u001b[0m                 \u001b[0mself\u001b[0m\u001b[0;34m.\u001b[0m\u001b[0mlog\u001b[0m\u001b[0;34m.\u001b[0m\u001b[0mwarning\u001b[0m\u001b[0;34m(\u001b[0m\u001b[0;34m\"Invalid Message:\"\u001b[0m\u001b[0;34m,\u001b[0m \u001b[0mexc_info\u001b[0m\u001b[0;34m=\u001b[0m\u001b[0;32mTrue\u001b[0m\u001b[0;34m)\u001b[0m\u001b[0;34m\u001b[0m\u001b[0;34m\u001b[0m\u001b[0m\n",
            "\u001b[0;31mKeyboardInterrupt\u001b[0m: Interrupted by user"
          ]
        }
      ]
    },
    {
      "cell_type": "markdown",
      "source": [
        "# Practical Questions\n",
        "# Write a Python program to print \"Hello, World!\"\n",
        "  -"
      ],
      "metadata": {
        "id": "xFAT_EEJUmtJ"
      }
    },
    {
      "cell_type": "code",
      "source": [
        "a=\"Hello, World!\"\n",
        "print(a)"
      ],
      "metadata": {
        "colab": {
          "base_uri": "https://localhost:8080/"
        },
        "id": "DXxRrYxpVDni",
        "outputId": "2eedc57e-af0d-4e68-ab52-bae3cb344faf"
      },
      "execution_count": null,
      "outputs": [
        {
          "output_type": "stream",
          "name": "stdout",
          "text": [
            "Hello, World!\n"
          ]
        }
      ]
    },
    {
      "cell_type": "markdown",
      "source": [
        "# Write a Python program that displays your name and age.\n",
        "  -"
      ],
      "metadata": {
        "id": "CmqPcntrVieB"
      }
    },
    {
      "cell_type": "code",
      "source": [
        "name = \"Girish Babu\"\n",
        "age = 24\n",
        "print(\"Name:\", name)\n",
        "print(\"Age:\", age)"
      ],
      "metadata": {
        "colab": {
          "base_uri": "https://localhost:8080/"
        },
        "id": "Y90YmcCXVudz",
        "outputId": "f1b5eb1c-3142-4da6-f649-a43552878bf2"
      },
      "execution_count": null,
      "outputs": [
        {
          "output_type": "stream",
          "name": "stdout",
          "text": [
            "Name: Girish Babu\n",
            "Age: 24\n"
          ]
        }
      ]
    },
    {
      "cell_type": "markdown",
      "source": [
        "# Write code to print all the pre-defined keywords in Python using the keyword library.\n"
      ],
      "metadata": {
        "id": "LD-B5Zj3XEsI"
      }
    },
    {
      "cell_type": "code",
      "source": [
        "print (\"list of python keywords\")\n",
        "import keyword\n",
        "print(keyword.kwlist)"
      ],
      "metadata": {
        "colab": {
          "base_uri": "https://localhost:8080/"
        },
        "collapsed": true,
        "id": "J-sVDs8lXcUw",
        "outputId": "dcae1953-a33e-41f6-9d2e-7f80cdb3fa4a"
      },
      "execution_count": null,
      "outputs": [
        {
          "output_type": "stream",
          "name": "stdout",
          "text": [
            "list of python keywords\n",
            "['False', 'None', 'True', 'and', 'as', 'assert', 'async', 'await', 'break', 'class', 'continue', 'def', 'del', 'elif', 'else', 'except', 'finally', 'for', 'from', 'global', 'if', 'import', 'in', 'is', 'lambda', 'nonlocal', 'not', 'or', 'pass', 'raise', 'return', 'try', 'while', 'with', 'yield']\n"
          ]
        }
      ]
    },
    {
      "cell_type": "markdown",
      "source": [
        "# Write a program that checks if a given word is a Python keyword."
      ],
      "metadata": {
        "id": "ZiVs_sCxYRys"
      }
    },
    {
      "cell_type": "code",
      "source": [
        "import keyword\n",
        "\n",
        "s = 'for'\n",
        "\n",
        "# Check if it's a Python keyword\n",
        "if keyword.iskeyword(s):\n",
        "    print(f\"'{s}' is a Python keyword.\")\n",
        "else:\n",
        "    print(f\"'{s}' is not a Python keyword.\")"
      ],
      "metadata": {
        "colab": {
          "base_uri": "https://localhost:8080/"
        },
        "id": "4c1RuPuJGjtw",
        "outputId": "84467fed-1fd3-4ec7-ec95-69ba70292496"
      },
      "execution_count": 1,
      "outputs": [
        {
          "output_type": "stream",
          "name": "stdout",
          "text": [
            "'for' is a Python keyword.\n"
          ]
        }
      ]
    },
    {
      "cell_type": "markdown",
      "source": [
        "# Create a list and tuple in Python, and demonstrate how attempting to change an element works differently.\n"
      ],
      "metadata": {
        "id": "BNWNw2pFa9GJ"
      }
    },
    {
      "cell_type": "code",
      "source": [
        "my_list = [1, 2, 3]\n",
        "my_list[0] = 10\n",
        "print(\"Modified list:\",my_list)\n",
        "my_tuple = (1, 2, 3)\n",
        "try:\n",
        "  my_tuple[0] = 10\n",
        "except TypeError as e:\n",
        "  print(\"Error:\",e)\n",
        "except typeError as e:\n",
        "  print(\"Error:\",e)"
      ],
      "metadata": {
        "colab": {
          "base_uri": "https://localhost:8080/"
        },
        "collapsed": true,
        "id": "n37MTNyAbWF3",
        "outputId": "7c4ded2f-2a33-4a0b-ff39-d3b9eb85b906"
      },
      "execution_count": null,
      "outputs": [
        {
          "output_type": "stream",
          "name": "stdout",
          "text": [
            "Modified list: [10, 2, 3]\n",
            "Error: 'tuple' object does not support item assignment\n"
          ]
        }
      ]
    },
    {
      "cell_type": "markdown",
      "source": [
        "# Write a function to demonstrate the behavior of mutable and immutable arguments?"
      ],
      "metadata": {
        "id": "Khe0fe8JfRto"
      }
    },
    {
      "cell_type": "code",
      "source": [
        "def demonstrate_mutability(a_list, an_int):\n",
        "    \"\"\"\n",
        "    This function demonstrates the behavior of mutable and immutable arguments.\n",
        "    \"\"\"\n",
        "    a_list[0] = 100  # Modifies the list in-place\n",
        "    an_int = 200  # Reassigns the integer within the function scope\n",
        "    print(\"Inside function call:\")\n",
        "    print(\"a_list:\", a_list)\n",
        "    print(\"an_int:\", an_int)\n",
        "\n",
        "my_list = [1, 2, 3]\n",
        "my_int = 10\n",
        "\n",
        "print(\"Before function call:\")\n",
        "print(\"My list:\", my_list)\n",
        "print(\"My integer:\", my_int)\n",
        "\n",
        "demonstrate_mutability(my_list, my_int)\n",
        "\n",
        "print(\"After function call:\")\n",
        "print(\"My list:\", my_list) # The original list is modified\n",
        "print(\"My integer:\", my_int) # The original integer remains unchanged"
      ],
      "metadata": {
        "colab": {
          "base_uri": "https://localhost:8080/"
        },
        "collapsed": true,
        "id": "hdxglrsYpXoz",
        "outputId": "6e2a63da-c700-4ef9-ff90-30827ad82217"
      },
      "execution_count": null,
      "outputs": [
        {
          "output_type": "stream",
          "name": "stdout",
          "text": [
            "Before function call:\n",
            "My list: [1, 2, 3]\n",
            "My integer: 10\n",
            "Inside function call:\n",
            "a_list: [100, 2, 3]\n",
            "an_int: 200\n",
            "After function call:\n",
            "My list: [100, 2, 3]\n",
            "My integer: 10\n"
          ]
        }
      ]
    },
    {
      "cell_type": "markdown",
      "source": [
        "# Write a program to demonstrate the use of logical operators."
      ],
      "metadata": {
        "id": "6CGWZEqZpsgb"
      }
    },
    {
      "cell_type": "code",
      "source": [
        "a = True\n",
        "b = False\n",
        "print(\"a and b:\", a and b)\n",
        "print(\"a or b:\", a or b)\n",
        "print(\"not a:\", not a)"
      ],
      "metadata": {
        "colab": {
          "base_uri": "https://localhost:8080/"
        },
        "id": "KsiHVNgcqM_B",
        "outputId": "9bffa060-bfa3-44ee-f157-c25f223fd9ad"
      },
      "execution_count": null,
      "outputs": [
        {
          "output_type": "stream",
          "name": "stdout",
          "text": [
            "a and b: False\n",
            "a or b: True\n",
            "not a: False\n"
          ]
        }
      ]
    },
    {
      "cell_type": "markdown",
      "source": [
        "# Write a Python program to convert user input from string to integer, float, and boolean types."
      ],
      "metadata": {
        "id": "YhRHYpGjql4V"
      }
    },
    {
      "cell_type": "code",
      "source": [
        "# string to integer\n",
        "a =\"5\"\n",
        "b = 7\n",
        "int9 = int(a) + b\n",
        "print(int9)"
      ],
      "metadata": {
        "colab": {
          "base_uri": "https://localhost:8080/"
        },
        "id": "gk_mIqEOqpbu",
        "outputId": "ad3293d9-6a5d-46cc-dc18-4ee20549ba6d"
      },
      "execution_count": null,
      "outputs": [
        {
          "output_type": "stream",
          "name": "stdout",
          "text": [
            "12\n"
          ]
        }
      ]
    },
    {
      "cell_type": "code",
      "source": [
        "# string to float\n",
        "a = \"3.14\"\n",
        "b = 2.5\n",
        "float9 = float(a) + b\n",
        "print(float9)"
      ],
      "metadata": {
        "colab": {
          "base_uri": "https://localhost:8080/"
        },
        "id": "O2kgeIM7sfW5",
        "outputId": "d04a9e7e-e522-4a21-933d-5e1c3fd491ab"
      },
      "execution_count": null,
      "outputs": [
        {
          "output_type": "stream",
          "name": "stdout",
          "text": [
            "5.640000000000001\n"
          ]
        }
      ]
    },
    {
      "cell_type": "code",
      "source": [
        "# string to boolean\n",
        "a = \"True\"\n",
        "b = False\n",
        "bool9 = bool(a) or b\n",
        "print(bool9)"
      ],
      "metadata": {
        "id": "sDAJWRjas_dE",
        "colab": {
          "base_uri": "https://localhost:8080/"
        },
        "outputId": "3036c44e-3241-48f3-e75b-35714d660ee7"
      },
      "execution_count": 19,
      "outputs": [
        {
          "output_type": "stream",
          "name": "stdout",
          "text": [
            "True\n"
          ]
        }
      ]
    },
    {
      "cell_type": "markdown",
      "source": [
        "# Write code to demonstrate type casting with list elements."
      ],
      "metadata": {
        "id": "kTviOTn9wkXl"
      }
    },
    {
      "cell_type": "code",
      "source": [
        "a = [1, 2, 3]\n",
        "b = [4, 5, 6]\n",
        "c = a + b\n",
        "print(c)"
      ],
      "metadata": {
        "colab": {
          "base_uri": "https://localhost:8080/"
        },
        "id": "emNukv_QwuOl",
        "outputId": "1296d34b-f45d-44de-d9a5-3a916edaec27"
      },
      "execution_count": 20,
      "outputs": [
        {
          "output_type": "stream",
          "name": "stdout",
          "text": [
            "[1, 2, 3, 4, 5, 6]\n"
          ]
        }
      ]
    },
    {
      "cell_type": "code",
      "source": [
        "a = \"india\"\n",
        "b = \"2025\"\n",
        "c = a + b\n",
        "print(c)"
      ],
      "metadata": {
        "colab": {
          "base_uri": "https://localhost:8080/"
        },
        "id": "4XLe-FYwy8zY",
        "outputId": "1cffac82-f48f-4a76-ede0-5147262ec97c"
      },
      "execution_count": 21,
      "outputs": [
        {
          "output_type": "stream",
          "name": "stdout",
          "text": [
            "india2025\n"
          ]
        }
      ]
    },
    {
      "cell_type": "markdown",
      "source": [
        "# Write a program that checks if a number is positive, negative, or zero."
      ],
      "metadata": {
        "id": "HyJS2VYezZm9"
      }
    },
    {
      "cell_type": "code",
      "source": [
        "num = float(input(\"Enter a number: \"))\n",
        "if num > 0:\n",
        "   print(\"Positive number\")\n",
        "elif num == 0:\n",
        "   print(\"Zero\")\n",
        "else:\n",
        "   print(\"Negative number\")\n"
      ],
      "metadata": {
        "colab": {
          "base_uri": "https://localhost:8080/"
        },
        "id": "pvnKgnR10FK5",
        "outputId": "1f61b5e1-968d-43bf-dd81-fd2606c2c6d6"
      },
      "execution_count": 22,
      "outputs": [
        {
          "output_type": "stream",
          "name": "stdout",
          "text": [
            "Enter a number: 5\n",
            "Positive number\n"
          ]
        }
      ]
    },
    {
      "cell_type": "markdown",
      "source": [
        "#  Write a for loop to print numbers from 1 to 10."
      ],
      "metadata": {
        "id": "D36ESpRg0dx5"
      }
    },
    {
      "cell_type": "code",
      "source": [
        "print('Numbers from 1 to 10:')\n",
        "for n in range(1, 11):\n",
        "   print(n, end=' ')"
      ],
      "metadata": {
        "colab": {
          "base_uri": "https://localhost:8080/"
        },
        "id": "0OhtFm3E1HLJ",
        "outputId": "9d640517-e52b-4248-cfab-4fb639199b5f"
      },
      "execution_count": 23,
      "outputs": [
        {
          "output_type": "stream",
          "name": "stdout",
          "text": [
            "Numbers from 1 to 10:\n",
            "1 2 3 4 5 6 7 8 9 10 "
          ]
        }
      ]
    },
    {
      "cell_type": "markdown",
      "source": [
        "# Write a Python program to find the sum of all even numbers between 1 and 50."
      ],
      "metadata": {
        "id": "vojEXqAE1sps"
      }
    },
    {
      "cell_type": "code",
      "source": [
        "numbers = int(input(\"Enter a number: \"))\n",
        "\n",
        "sum = 0\n",
        "\n",
        "for number in range(0, numbers):\n",
        "    if number % 2 == 0:\n",
        "        print(number)\n",
        "        sum = sum + number\n",
        "\n",
        "print(\"The sum of total even numbers are:\", sum)\n"
      ],
      "metadata": {
        "colab": {
          "base_uri": "https://localhost:8080/"
        },
        "collapsed": true,
        "id": "G5-6d-vm9aKT",
        "outputId": "ab5e7d70-a7d5-470b-accc-40461d20775b"
      },
      "execution_count": 42,
      "outputs": [
        {
          "output_type": "stream",
          "name": "stdout",
          "text": [
            "Enter a number: 50\n",
            "0\n",
            "2\n",
            "4\n",
            "6\n",
            "8\n",
            "10\n",
            "12\n",
            "14\n",
            "16\n",
            "18\n",
            "20\n",
            "22\n",
            "24\n",
            "26\n",
            "28\n",
            "30\n",
            "32\n",
            "34\n",
            "36\n",
            "38\n",
            "40\n",
            "42\n",
            "44\n",
            "46\n",
            "48\n",
            "The sum of total even numbers are: 600\n"
          ]
        }
      ]
    },
    {
      "cell_type": "markdown",
      "source": [
        "# Write a program to reverse a string using a while loop."
      ],
      "metadata": {
        "id": "vMlPTFvL2_Ue"
      }
    },
    {
      "cell_type": "code",
      "source": [
        "\n",
        "\n",
        "string_to_reverse = \"Girish\"\n",
        "reversed_string = reverse_string_while(string_to_reverse)\n",
        "print(f\"Reversed string: {reversed_string}\")"
      ],
      "metadata": {
        "colab": {
          "base_uri": "https://localhost:8080/"
        },
        "id": "hWLfbY_M5xsn",
        "outputId": "fb742d6b-d872-4fd7-b765-f8242131bea5"
      },
      "execution_count": 37,
      "outputs": [
        {
          "output_type": "stream",
          "name": "stdout",
          "text": [
            "Reversed string: hsiriG\n"
          ]
        }
      ]
    },
    {
      "cell_type": "markdown",
      "source": [
        "# Write a Python program to calculate the factorial of a number provided by the user using a while loop."
      ],
      "metadata": {
        "id": "-ISUw19x6opz"
      }
    },
    {
      "cell_type": "code",
      "source": [
        "num = int(input(\"enter a number: \"))\n",
        "\n",
        "fac = 1\n",
        "i = 1\n",
        "\n",
        "while i <= num:\n",
        "\tfac = fac * i\n",
        "\ti = i + 1\n"
      ],
      "metadata": {
        "colab": {
          "base_uri": "https://localhost:8080/"
        },
        "collapsed": true,
        "id": "yMix_7Qw6xvm",
        "outputId": "04d513ef-ef1f-441e-b6e0-f272e9ac6ce1"
      },
      "execution_count": 40,
      "outputs": [
        {
          "name": "stdout",
          "output_type": "stream",
          "text": [
            "enter a number: 5\n"
          ]
        }
      ]
    }
  ]
}